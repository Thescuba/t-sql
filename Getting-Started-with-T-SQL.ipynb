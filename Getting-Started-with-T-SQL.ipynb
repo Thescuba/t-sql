{
 "cells": [
  {
   "cell_type": "markdown",
   "metadata": {},
   "source": [
    "# Getting started with Transact-SQL\n",
    "## What is SQL?\n",
    "* SQL\n",
    " * IBM in the 1970s\n",
    " * Adopted as a standard by ANSI and ISO standards bodies\n",
    " * Widely used in industry\n",
    "SQL stands for structured query languages and was developed by IBM as a way of interrogating databases where we store information that our applications use. It has since adopted as a standard and is wildly used accross multiple different database platforms"
   ]
  },
  {
   "cell_type": "code",
   "execution_count": null,
   "metadata": {},
   "outputs": [],
   "source": []
  }
 ],
 "metadata": {
  "kernelspec": {
   "display_name": "Python 3",
   "language": "python",
   "name": "python3"
  },
  "language_info": {
   "codemirror_mode": {
    "name": "ipython",
    "version": 3
   },
   "file_extension": ".py",
   "mimetype": "text/x-python",
   "name": "python",
   "nbconvert_exporter": "python",
   "pygments_lexer": "ipython3",
   "version": "3.7.1"
  }
 },
 "nbformat": 4,
 "nbformat_minor": 2
}
