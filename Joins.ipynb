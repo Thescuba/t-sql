{
 "cells": [
  {
   "cell_type": "markdown",
   "metadata": {},
   "source": [
    "# Joins\n",
    "## Introduction to Joins\n",
    "### Join Concepts\n",
    "* Combine rows from multiple tables by specifying matching creiteria\n",
    " * Usually based on primary key - foreign key relationships\n",
    " * For example return rows that combine data from the Employee and SalesOrder tables by matching the EmployeeID primary key to the SalesOrder.EmployeeID foreign key.\n",
    " \n",
    " It would help to think of joins as venn diagrams.\n",
    " \n",
    "###  Join Syntax\n",
    " * ANSI SQL-92\n",
    "  * Tables joined by JOIN operator in FROM Clause\n",
    "   * Preferred syntax \n",
    "   * SELECT ... FROM Table1 JOIN Table2 ON <on_predicate>;\n",
    " * ANSI SQL-89\n",
    "  * Table joined by commas in FROM Clasue\n",
    "   * Not recommended: Accidental Cartesian products!\n",
    "   * SELECT ... FROM Table1, Table2 Where <where_predicate>;\n",
    " Cartesian products are every single combinatations. We would use the ANSI SQL-92 in most cases but an example of the SQL-89 if is we have a table of employees and a table of open positions. We can join both tables then filter for employee-job combinations where the employee meets the job requirement.\n",
    " \n",
    "### Different Type of Joins\n",
    "\n",
    "### Inner Joins\n",
    "* Return only rows where a match is found in both input tables\n",
    "* Match rows based on the attributes supplied in predicate \n",
    "* If join predicate operator is =, also known as equi-join.\n",
    "\n",
    "Below we have an example, by default sql server and azure JOIN means INNER JOIN.  \n",
    "\n",
    "### Outer Joins \n",
    "* Return all rows from one table and any matching rows from second table.\n",
    "* One table's are \"preserved\"\n",
    " * Designated with LEFT, RIGHT, FULL Keyword\n",
    " * All rows from preserved table output to result set\n",
    "* Matches from other table retrieved\n",
    "* Additional rows added to results from non-matched rows\n",
    " * NULLs added in places where attricutes do not match. \n"
   ]
  }
 ],
 "metadata": {
  "kernelspec": {
   "display_name": "Python 3",
   "language": "python",
   "name": "python3"
  },
  "language_info": {
   "codemirror_mode": {
    "name": "ipython",
    "version": 3
   },
   "file_extension": ".py",
   "mimetype": "text/x-python",
   "name": "python",
   "nbconvert_exporter": "python",
   "pygments_lexer": "ipython3",
   "version": "3.7.3"
  }
 },
 "nbformat": 4,
 "nbformat_minor": 2
}
