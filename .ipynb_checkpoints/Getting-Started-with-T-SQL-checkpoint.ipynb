{
 "cells": [
  {
   "cell_type": "markdown",
   "metadata": {},
   "source": [
    "# 1 Getting started with Transact-SQL\n",
    "## 1.1 Intro to T-SQL\n",
    "### 1.1.1 What is SQL?\n",
    "* SQL\n",
    " * IBM in the 1970s\n",
    " * Adopted as a standard by ANSI and ISO standards bodies\n",
    " * Widely used in industry\n",
    "\n",
    "SQL stands for structured query languages and was developed by IBM as a way of interrogating databases where we store information that our applications use. It has since adopted as a standard and is wildly used accross multiple different database platforms.\n",
    "\n",
    "* Microsofts implementation is Transact-SQL\n",
    " * Referred to as T-SQL\n",
    " * Query language for SQL Server and Azure SQL Database\n",
    " \n",
    " Each vendor tends to add its own idiosyncrasies to the language or  little extensions. For Microsfot this is called Transact-SQL or sometimes T-SQL. It it largely simliar to other SQL database but there are a few microsoft specific twist to it. It is found on microsoft database products that include SQL sever which is the enterprise scale database server that you can install on your own hardward or run in a virtual machine in Azure SQL Database. The other Microsoft database product would be Azure SQL Database.\n",
    " \n",
    "* SQL is declarative, not procedural\n",
    " * Describe what you want, don't specify steps\n",
    "If you a programer, you've proabaly written some procedural programming. So using C# or Python you would write a procedure where you do one thing, then do the next thing and maybe loop around to do a number of things a certain amount of times, but you're specifying the procedure. SQL is different from that, we work with sets of datas. If you're familiar with set theory which is a branch of mathematics,  you're use to the idea of collections of objects and you typically draw venn diagrams to categorize different sets together. SQL is a language that builds on that branch of mathematics. It is very much about dealing with multiple instances of objects that are arranged into collecctions or sets. When using SQL what you typocally do when working with SQL is describe what it is you want when you write a query rather than how you would get there.\n",
    "\n",
    "\n",
    "### 1.1.2 Relational Databases\n",
    "* Relational Databases\n",
    " * Entities are repreented as relations (tables), in which their attributes are represented as domains (columns)\n",
    " * Most relational databases are normalized with relationships defined between tables through primary and foreign keys.\n",
    " \n",
    "With relational databases you've typically got multiple tables and being relational, they relate to one another. Each table represents a type of thing and what we call an entity might be a person, but it can also be something we cant see such as an order. When we see someone talk about relationsion having domains, really what they are refering to is columns. So a product entity would be represented as a table and the table may have columns that represent different attributes of a product such as it's name, it's color and it's price.\n",
    "\n",
    "While in this course we wont be getting into how to normalize data in our table, we will talk about the idea that we have multiple tables and what we try to do in each table is have a unique identifier called its primary key. The primary key allows us to uniquely identifie a row in the table, an instance of the entity. An example would be being able to indentify a product by its product id or a sales order by its sales order number. Now we may relate the entity to eachother. When you are recording your sales in excel you may need to write down customerID, name OrderID and ProductID everytime you have a new order. The point of a database to to avoid that duplication. In the figure we have below we have 4 different tables and they we can see sales oderdetail has two foreign keys it is refering too from the Products  and SalesOrderHeader tables. So would have an order table and a product table and we can look up our product key to get the detail on the product.\n",
    "\n",
    "![](img\\tables.PNG)\n",
    "\n",
    "### 1.1.3 Schemas and Object Names\n",
    "* Schemas and Object Names\n",
    " * Schemas are namesapces for database objects\n",
    " * Fully-qualified names:  <code>[Server_name.][database_name.][schema_name.]object_name</code>\n",
    " \n",
    "The question may be if we have to write this down everytime we are refering to a table? With SQL sever you can but with Azure SQL Database, there's really no point because Azure you can only work in one database at a time. So when working in Azure we usually just take it down to just the schema name and object name.\n",
    "\n",
    "In the example below we have two schemas called Sales and Production and in other schema we have a table called order. If would be confusing if we did not specify which object we would like to access. It is always good practice to be explicit.\n",
    "\n",
    "![](img\\schemas.PNG)\n",
    "\n",
    "![](img\\types.PNG)\n",
    "\n",
    "\n",
    "### 1.1.4 Key Points\n",
    "* Transact-SQL is the language used to query data in Microsoft SQL Server and Azure SQL Database.\n",
    "* Data is stored in tables, which may be related to one another through common key fields.\n",
    "* Objects in a database are organized into schemas.\n",
    "* The fully qualified naming syntax for an object is, server_name.database_name.schema_name.object_name, but in most cases you can abbreviate this to schema_name.object_name."
   ]
  },
  {
   "cell_type": "markdown",
   "metadata": {},
   "source": [
    "## 1.2 The Select Statement \n",
    "The core statement we are use to get data from the database is the SELECT statment. Below we have an example of a query that allows us to get data from our table. \n",
    "![](img\\select.PNG)\n",
    "\n",
    "The SELECT statement is use to specifiy what collumns we want back or what collumn we would like to see in the results. That may be all the columns in the tables, or some subset of them. Our example will return a table with the collumns of OrderDate and the total count of OrderID. \n",
    "\n",
    "The FROM clause is used to define which table or tables will be the source for our data. Our query will take data from the Sales.SalesOrder table.\n",
    "\n",
    "We may want to filter out our data and this is when we use the Where statment. In  our query we will only see order dates that have a shipped status. \n",
    "\n",
    "In the case where we may want to aggegate data in a way that will allow us to get the totals for each month we can used to group by statement. In our query we are grouping by OrderDate.\n",
    "\n",
    "If we want to filter from our groups we will want to use the having statment. In our example we only want OrderDates where the count of OrderID is greater than 1.\n",
    "\n",
    "Finally we would like to sort our results we use Order By to select what row to order our results by and if we would like decending or acending order.\n",
    "\n",
    "### 1.2.1 Basic Select Query Example\n",
    "\n",
    "\n"
   ]
  }
 ],
 "metadata": {
  "kernelspec": {
   "display_name": "Python 3",
   "language": "python",
   "name": "python3"
  },
  "language_info": {
   "codemirror_mode": {
    "name": "ipython",
    "version": 3
   },
   "file_extension": ".py",
   "mimetype": "text/x-python",
   "name": "python",
   "nbconvert_exporter": "python",
   "pygments_lexer": "ipython3",
   "version": "3.7.1"
  }
 },
 "nbformat": 4,
 "nbformat_minor": 2
}
