{
 "cells": [
  {
   "cell_type": "markdown",
   "metadata": {},
   "source": [
    "# Querying Tables with Select\n",
    "## Querying with Transact-SQL\n",
    "### Removing Duplicates\n",
    "![](img/remove.PNG)\n",
    "Above the first query we have a statement that will return the color of each of our products. In the example we can see that we have 2 blues, 2 yellows, a red and a black but say we would like to only see the unique colors of our products. The second query help us do exactly that. In the case where we may be selecting color and a second collumn, size, the query will return dinstinct color and size combinations. "
   ]
  },
  {
   "cell_type": "markdown",
   "metadata": {},
   "source": [
    "![](img/remove.PNG)"
   ]
  },
  {
   "cell_type": "markdown",
   "metadata": {},
   "source": [
    "### Sorting Results\n",
    "Use <code>ORDER By</code> to sort results by one or more columns\n",
    "* Alisased created in SELECT caluse are visiable to ORDER BY\n",
    "* You can order by columns in the source that are not included in the SELECT clause\n",
    "* You can specify ASC or DESC (ASC is the defauly)\n",
    "Example:\n",
    "<code> ProductCategory AS Category, ProductName\n",
    "    FROM Production.Product\n",
    "    ORDER BY Category, Price DESC;</code>\n",
    "### Sorting Results \n",
    "* Use ORDER BY to sort results by one or more columns \n"
   ]
  },
  {
   "cell_type": "code",
   "execution_count": null,
   "metadata": {},
   "outputs": [],
   "source": []
  }
 ],
 "metadata": {
  "kernelspec": {
   "display_name": "Python 3",
   "language": "python",
   "name": "python3"
  },
  "language_info": {
   "codemirror_mode": {
    "name": "ipython",
    "version": 3
   },
   "file_extension": ".py",
   "mimetype": "text/x-python",
   "name": "python",
   "nbconvert_exporter": "python",
   "pygments_lexer": "ipython3",
   "version": "3.7.3"
  }
 },
 "nbformat": 4,
 "nbformat_minor": 2
}
